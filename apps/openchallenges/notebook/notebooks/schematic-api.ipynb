{
 "cells": [
  {
   "cell_type": "markdown",
   "id": "34a39b07-385c-49b7-931f-3631a1aff129",
   "metadata": {
    "tags": []
   },
   "source": [
    "# Schematic REST API Example"
   ]
  },
  {
   "cell_type": "markdown",
   "id": "ed72ae29-13e0-4533-8e7e-f13c9b34da1a",
   "metadata": {},
   "source": [
    "## Overview"
   ]
  },
  {
   "cell_type": "markdown",
   "id": "b876938b-ae3a-49ba-b416-b9fd59f88ae7",
   "metadata": {},
   "source": [
    "This notebook shows how to use Schematic API client for Python to get a list of datasets from Schematic REST API."
   ]
  },
  {
   "cell_type": "markdown",
   "id": "7e95e24d-3f3a-47d0-bb52-35e718eb7ac6",
   "metadata": {},
   "source": [
    "## Requirements"
   ]
  },
  {
   "cell_type": "markdown",
   "id": "cc586a81-e5b4-4021-9c6b-aa8a69ef221c",
   "metadata": {},
   "source": [
    "The Schematic REST API must be already running. See the project `schematic-api` located in `apps/schematic/api` for more information."
   ]
  },
  {
   "cell_type": "markdown",
   "id": "c90710c2-f053-44ae-a3c2-610eecff9073",
   "metadata": {},
   "source": [
    "## List storage datasets"
   ]
  },
  {
   "cell_type": "code",
   "execution_count": 14,
   "id": "a9f3da43-6f09-4774-9fe7-59b83dbb147e",
   "metadata": {},
   "outputs": [],
   "source": [
    "import schematic_client\n",
    "from pprint import pprint\n",
    "from schematic_client.api import storage_api"
   ]
  },
  {
   "cell_type": "code",
   "execution_count": 12,
   "id": "8fc3ac4c-2ceb-4bbc-bdb8-3bb8be08dfc6",
   "metadata": {},
   "outputs": [],
   "source": [
    "# Defining the host is optional and defaults to http://localhost/api/v1\n",
    "# See configuration.py for a list of all supported configuration parameters.\n",
    "configuration = schematic_client.Configuration(\n",
    "    host = \"http://schematic-api:7080/api/v1\"\n",
    ")"
   ]
  },
  {
   "cell_type": "markdown",
   "id": "2f855989-f0a9-4fa0-a8f8-63edba2fdb38",
   "metadata": {},
   "source": [
    "> **Note** The hostname `schematic-api` is defined in `/etc/hosts`. The dev container provided with this project is responsible for definining the required hostnames. By default, the hostnames are mapped to `127.0.0.1`."
   ]
  },
  {
   "cell_type": "code",
   "execution_count": 18,
   "id": "b2f952f5-9140-4702-8a96-3457ca4df841",
   "metadata": {},
   "outputs": [
    {
     "name": "stdout",
     "output_type": "stream",
     "text": [
      "{'datasets': [{'name': 'dataset-1'},\n",
      "              {'name': 'dataset-2'},\n",
      "              {'name': 'dataset-3'}],\n",
      " 'has_next': False,\n",
      " 'has_previous': False,\n",
      " 'number': 0,\n",
      " 'size': 100,\n",
      " 'total_elements': 3,\n",
      " 'total_pages': 1}\n"
     ]
    }
   ],
   "source": [
    "# Enter a context with an instance of the API client\n",
    "with schematic_client.ApiClient(configuration) as api_client:\n",
    "    # Create an instance of the API class\n",
    "    api_instance = storage_api.StorageApi(api_client)\n",
    "    project_id = \"syn26251192\" # str | The Synapse ID of a storage project.\n",
    "\n",
    "    try:\n",
    "        # Gets all datasets in folder under a given storage project that the current user has access to.\n",
    "        api_response = api_instance.list_storage_project_datasets(project_id)\n",
    "        pprint(api_response)\n",
    "    except openapi_client.ApiException as e:\n",
    "        print(\"Exception when calling StorageApi->list_storage_project_datasets: %s\\n\" % e)"
   ]
  }
 ],
 "metadata": {
  "kernelspec": {
   "display_name": "Python 3 (ipykernel)",
   "language": "python",
   "name": "python3"
  },
  "language_info": {
   "codemirror_mode": {
    "name": "ipython",
    "version": 3
   },
   "file_extension": ".py",
   "mimetype": "text/x-python",
   "name": "python",
   "nbconvert_exporter": "python",
   "pygments_lexer": "ipython3",
   "version": "3.9.2"
  }
 },
 "nbformat": 4,
 "nbformat_minor": 5
}
