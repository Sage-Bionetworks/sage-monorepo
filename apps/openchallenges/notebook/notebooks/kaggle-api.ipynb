{
 "cells": [
  {
   "cell_type": "markdown",
   "id": "34a39b07-385c-49b7-931f-3631a1aff129",
   "metadata": {
    "tags": []
   },
   "source": [
    "# Kaggle API"
   ]
  },
  {
   "cell_type": "markdown",
   "id": "ed72ae29-13e0-4533-8e7e-f13c9b34da1a",
   "metadata": {},
   "source": [
    "## Overview"
   ]
  },
  {
   "cell_type": "markdown",
   "id": "b876938b-ae3a-49ba-b416-b9fd59f88ae7",
   "metadata": {},
   "source": [
    "This notebook shows examples on how to use Kaggle API."
   ]
  },
  {
   "cell_type": "markdown",
   "id": "7e95e24d-3f3a-47d0-bb52-35e718eb7ac6",
   "metadata": {},
   "source": [
    "## Requirements"
   ]
  },
  {
   "cell_type": "markdown",
   "id": "cc586a81-e5b4-4021-9c6b-aa8a69ef221c",
   "metadata": {},
   "source": [
    "None"
   ]
  },
  {
   "cell_type": "markdown",
   "id": "c90710c2-f053-44ae-a3c2-610eecff9073",
   "metadata": {},
   "source": [
    "## Authentication"
   ]
  },
  {
   "cell_type": "code",
   "execution_count": 3,
   "id": "a9f3da43-6f09-4774-9fe7-59b83dbb147e",
   "metadata": {},
   "outputs": [],
   "source": [
    "from kaggle.api.kaggle_api_extended import KaggleApi\n",
    "api = KaggleApi()\n",
    "api.authenticate()"
   ]
  },
  {
   "cell_type": "markdown",
   "id": "03b034a1-c52d-4f99-ae8c-6b28a053c677",
   "metadata": {},
   "source": [
    "## List Competitions"
   ]
  },
  {
   "cell_type": "code",
   "execution_count": 4,
   "id": "8d87ddb5-bc21-4267-b70f-ff6ef4807e47",
   "metadata": {},
   "outputs": [
    {
     "data": {
      "text/plain": [
       "[https://www.kaggle.com/competitions/nfl-player-contact-detection,\n",
       " https://www.kaggle.com/competitions/godaddy-microbusiness-density-forecasting,\n",
       " https://www.kaggle.com/competitions/learning-equality-curriculum-recommendations,\n",
       " https://www.kaggle.com/competitions/rsna-breast-cancer-detection,\n",
       " https://www.kaggle.com/competitions/icecube-neutrinos-in-deep-ice,\n",
       " https://www.kaggle.com/competitions/otto-recommender-system,\n",
       " https://www.kaggle.com/competitions/playground-series-s3e3,\n",
       " https://www.kaggle.com/competitions/titanic,\n",
       " https://www.kaggle.com/competitions/house-prices-advanced-regression-techniques,\n",
       " https://www.kaggle.com/competitions/spaceship-titanic,\n",
       " https://www.kaggle.com/competitions/digit-recognizer,\n",
       " https://www.kaggle.com/competitions/nlp-getting-started,\n",
       " https://www.kaggle.com/competitions/connectx,\n",
       " https://www.kaggle.com/competitions/tpu-getting-started,\n",
       " https://www.kaggle.com/competitions/store-sales-time-series-forecasting,\n",
       " https://www.kaggle.com/competitions/gan-getting-started,\n",
       " https://www.kaggle.com/competitions/contradictory-my-dear-watson]"
      ]
     },
     "execution_count": 4,
     "metadata": {},
     "output_type": "execute_result"
    }
   ],
   "source": [
    "api.competitions_list()"
   ]
  },
  {
   "cell_type": "code",
   "execution_count": null,
   "id": "83d81fd5-4e42-4a84-be55-4b4c2ad75e7f",
   "metadata": {},
   "outputs": [],
   "source": []
  }
 ],
 "metadata": {
  "kernelspec": {
   "display_name": "Python 3 (ipykernel)",
   "language": "python",
   "name": "python3"
  },
  "language_info": {
   "codemirror_mode": {
    "name": "ipython",
    "version": 3
   },
   "file_extension": ".py",
   "mimetype": "text/x-python",
   "name": "python",
   "nbconvert_exporter": "python",
   "pygments_lexer": "ipython3",
   "version": "3.9.2"
  }
 },
 "nbformat": 4,
 "nbformat_minor": 5
}
