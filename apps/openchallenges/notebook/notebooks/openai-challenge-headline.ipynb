{
 "cells": [
  {
   "cell_type": "markdown",
   "id": "34a39b07-385c-49b7-931f-3631a1aff129",
   "metadata": {
    "tags": []
   },
   "source": [
    "# OpenChallenges REST API Example"
   ]
  },
  {
   "cell_type": "markdown",
   "id": "ed72ae29-13e0-4533-8e7e-f13c9b34da1a",
   "metadata": {},
   "source": [
    "## Overview"
   ]
  },
  {
   "cell_type": "markdown",
   "id": "b876938b-ae3a-49ba-b416-b9fd59f88ae7",
   "metadata": {},
   "source": [
    "This notebook generates challenge headlines for challenges fetched from OpenChallenges (OC)."
   ]
  },
  {
   "cell_type": "markdown",
   "id": "7e95e24d-3f3a-47d0-bb52-35e718eb7ac6",
   "metadata": {},
   "source": [
    "## Requirements"
   ]
  },
  {
   "cell_type": "markdown",
   "id": "cc586a81-e5b4-4021-9c6b-aa8a69ef221c",
   "metadata": {},
   "source": [
    "- Access to OpenChallenges REST API\n",
    "- Access to OpenAI API"
   ]
  },
  {
   "cell_type": "markdown",
   "id": "c90710c2-f053-44ae-a3c2-610eecff9073",
   "metadata": {},
   "source": [
    "## List challenges"
   ]
  },
  {
   "cell_type": "code",
   "execution_count": 1,
   "id": "c41a64a1",
   "metadata": {},
   "outputs": [],
   "source": [
    "import openchallenges_client\n",
    "from pprint import pprint\n",
    "from openchallenges_client.api import challenge_api"
   ]
  },
  {
   "cell_type": "code",
   "execution_count": 2,
   "id": "8fc3ac4c-2ceb-4bbc-bdb8-3bb8be08dfc6",
   "metadata": {},
   "outputs": [],
   "source": [
    "# See configuration.py for a list of all supported configuration parameters.\n",
    "configuration = openchallenges_client.Configuration(\n",
    "    host = \"https://openchallenges.io/api/v1\"\n",
    ")"
   ]
  },
  {
   "cell_type": "code",
   "execution_count": 3,
   "id": "b2f952f5-9140-4702-8a96-3457ca4df841",
   "metadata": {},
   "outputs": [],
   "source": [
    "# Enter a context with an instance of the API client\n",
    "challenges = []\n",
    "with openchallenges_client.ApiClient(configuration) as api_client:\n",
    "    api_instance = challenge_api.ChallengeApi(api_client)\n",
    "    \n",
    "    query = openchallenges_client.ChallengeSearchQuery(page_number=1, page_size=1)\n",
    "\n",
    "    try:\n",
    "        # Get the first page of the list of challenges\n",
    "        page = api_instance.list_challenges(query)\n",
    "        challenges.extend(page.challenges)\n",
    "    except openchallenges_client.ApiException as e:\n",
    "        print(\"Exception when calling ChallengeApi->list_challenges: %s\\n\" % e)"
   ]
  },
  {
   "cell_type": "code",
   "execution_count": 4,
   "id": "6d590b17",
   "metadata": {},
   "outputs": [
    {
     "data": {
      "text/plain": [
       "True"
      ]
     },
     "execution_count": 4,
     "metadata": {},
     "output_type": "execute_result"
    }
   ],
   "source": [
    "from dotenv import load_dotenv\n",
    "\n",
    "load_dotenv()"
   ]
  },
  {
   "cell_type": "code",
   "execution_count": 5,
   "id": "488632df",
   "metadata": {},
   "outputs": [],
   "source": [
    "import openai"
   ]
  },
  {
   "cell_type": "code",
   "execution_count": 6,
   "id": "9158b9b9",
   "metadata": {},
   "outputs": [],
   "source": [
    "# Source: https://medium.com/muthoni-wanyoike/implementing-text-summarization-using-openais-gpt-3-api-dcd6be4f6933\n",
    "def split_text(text):\n",
    "    max_chunk_size = 2048\n",
    "    chunks = []\n",
    "    current_chunk = \"\"\n",
    "    for sentence in text.split(\".\"):\n",
    "        if len(current_chunk) + len(sentence) < max_chunk_size:\n",
    "            current_chunk += sentence + \".\"\n",
    "        else:\n",
    "            chunks.append(current_chunk.strip())\n",
    "            current_chunk = sentence + \".\"\n",
    "    if current_chunk:\n",
    "        chunks.append(current_chunk.strip())\n",
    "    return chunks"
   ]
  },
  {
   "cell_type": "code",
   "execution_count": 7,
   "id": "1ea1b66b",
   "metadata": {},
   "outputs": [],
   "source": [
    "def generate_challenge_headline(text):\n",
    "    prompt=(\n",
    "        \"Please generate five headlines that have a maximum ten words from the following \"\n",
    "        \"challenge description. The headline must summarize the goal of the challenge. \"\n",
    "        f\"Description: \\n{text}\"\n",
    "    )\n",
    "    response = openai.ChatCompletion.create(\n",
    "        model=\"gpt-3.5-turbo\",\n",
    "        messages=[\n",
    "            {\"role\": \"system\", \"content\": \"You are a helpful assistant.\"},\n",
    "            {\"role\": \"user\", \"content\": prompt},\n",
    "        ],\n",
    "        max_tokens=1024,\n",
    "        temperature=0.5\n",
    "    )\n",
    "    return response['choices'][0]['message']['content']"
   ]
  },
  {
   "cell_type": "code",
   "execution_count": 8,
   "id": "d0c0b308-0b58-44a7-8ff6-4987dfbccb17",
   "metadata": {},
   "outputs": [
    {
     "name": "stdout",
     "output_type": "stream",
     "text": [
      "('1. NIDDK Data Centric Challenge: Enhancing Repository for AI Research\\n'\n",
      " '2. Unlocking Insights: NIDDK Challenge Improves Data Quality for AI\\n'\n",
      " \"3. NIDDK-CR's Data Centric Challenge: Advancing AI-driven Discovery\\n\"\n",
      " '4. Bridging the Gap: NIDDK Challenge Boosts Data Collaboration for AI\\n'\n",
      " '5. NIDDK Repository Challenge: Making Research Data FAIR for AI')\n"
     ]
    }
   ],
   "source": [
    "challenge = challenges[0]\n",
    "result = generate_challenge_headline(challenge.description)\n",
    "pprint(result)\n"
   ]
  },
  {
   "cell_type": "code",
   "execution_count": 28,
   "id": "f2bd77de",
   "metadata": {},
   "outputs": [
    {
     "name": "stdout",
     "output_type": "stream",
     "text": [
      "{\n",
      "  \"id\": 279,\n",
      "  \"slug\": \"niddk-central-repository-data-centric-challenge\",\n",
      "  \"name\": \"NIDDK Central Repository Data-Centric Challenge\",\n",
      "  \"headline\": \"Enhancing NIDDK datasets for future Artificial Intelligence (AI) applications.\",\n",
      "  \"headline_alternatives\": [\n",
      "    \"1. NIDDK Data Centric Challenge: Enhancing Repository for AI Research\",\n",
      "    \"2. Unlocking Insights: NIDDK Challenge Improves Data Quality for AI\",\n",
      "    \"3. NIDDK-CR's Data Centric Challenge: Advancing AI-driven Discovery\",\n",
      "    \"4. Bridging the Gap: NIDDK Challenge Boosts Data Collaboration for AI\",\n",
      "    \"5. NIDDK Repository Challenge: Making Research Data FAIR for AI\"\n",
      "  ]\n",
      "}\n"
     ]
    }
   ],
   "source": [
    "from itertools import compress\n",
    "import json\n",
    "\n",
    "raw_headlines = result.splitlines()\n",
    "\n",
    "def is_raw_headline(raw_headline):\n",
    "    prefixes = (\"1. \", \"2. \", \"3. \", \"4. \", \"5. \")\n",
    "    return raw_headline.startswith(prefixes)\n",
    "\n",
    "headlines = list(compress(raw_headlines, map(is_raw_headline, raw_headlines)))\n",
    "\n",
    "obj = {\n",
    "    \"id\": challenge.id,\n",
    "    \"slug\": challenge.slug,\n",
    "    \"name\": challenge.name,\n",
    "    \"headline\": challenge.headline,\n",
    "    \"headline_alternatives\": headlines\n",
    "}\n",
    "json_str = json.dumps(obj, indent=2)\n",
    "\n",
    "print(json_str)"
   ]
  },
  {
   "cell_type": "code",
   "execution_count": null,
   "id": "20da8b0e",
   "metadata": {},
   "outputs": [],
   "source": []
  }
 ],
 "metadata": {
  "kernelspec": {
   "display_name": "Python 3 (ipykernel)",
   "language": "python",
   "name": "python3"
  },
  "language_info": {
   "codemirror_mode": {
    "name": "ipython",
    "version": 3
   },
   "file_extension": ".py",
   "mimetype": "text/x-python",
   "name": "python",
   "nbconvert_exporter": "python",
   "pygments_lexer": "ipython3",
   "version": "3.10.12"
  }
 },
 "nbformat": 4,
 "nbformat_minor": 5
}
